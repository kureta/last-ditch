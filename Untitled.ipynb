{
 "cells": [
  {
   "cell_type": "code",
   "execution_count": null,
   "id": "9daf0416",
   "metadata": {},
   "outputs": [],
   "source": [
    "import plotly.express as px\n",
    "import plotly.graph_objects as go\n",
    "from plotly_resampler import FigureWidgetResampler\n",
    "import numpy as np\n",
    "import librosa\n",
    "import librosa.display as display\n",
    "import torch\n",
    "import torch.nn as nn\n",
    "import torch.nn.functional as F\n",
    "import torchaudio\n",
    "import torchaudio.functional as AF\n",
    "import torch.fft as fft\n",
    "from IPython.display import Audio\n",
    "import torchcrepe\n",
    "from einops.layers.torch import Rearrange, Reduce\n",
    "from einops import rearrange\n",
    "from dsp import HarmonicOscillator, FilteredNoise, ConvolutionalReverb"
   ]
  },
  {
   "cell_type": "code",
   "execution_count": null,
   "id": "adac99b4",
   "metadata": {},
   "outputs": [],
   "source": [
    "TEST_FILE_PATH = '/home/kureta/Music/cello-test.wav'\n",
    "SAMPLE_RATE = 48000\n",
    "N_FFT = 1024 * 3\n",
    "HOP_LENGTH = 256 * 3"
   ]
  },
  {
   "cell_type": "code",
   "execution_count": null,
   "id": "08b63560",
   "metadata": {},
   "outputs": [],
   "source": [
    "def normalized(x):\n",
    "    scale = x.max() - x.min()\n",
    "    bias = x.min()\n",
    "    \n",
    "    return (x - bias) / scale"
   ]
  },
  {
   "cell_type": "code",
   "execution_count": null,
   "id": "3052c5c9",
   "metadata": {},
   "outputs": [],
   "source": [
    "audio = torch.load('/home/kureta/Music/audio.pth')\n",
    "f0 = torch.load('/home/kureta/Music/f0.pth')\n",
    "loudness = torch.load('/home/kureta/Music/loudness.pth')"
   ]
  },
  {
   "cell_type": "code",
   "execution_count": null,
   "id": "dd941de2",
   "metadata": {},
   "outputs": [],
   "source": [
    "audio.shape, f0.shape, loudness.shape"
   ]
  },
  {
   "cell_type": "code",
   "execution_count": null,
   "id": "4364ab2b",
   "metadata": {},
   "outputs": [],
   "source": [
    "time_ = np.arange(audio.shape[-1]) / SAMPLE_RATE\n",
    "time_pitch = librosa.frames_to_time(np.arange(f0.shape[-1]), sr=16000, hop_length=HOP_LENGTH//3)"
   ]
  },
  {
   "cell_type": "code",
   "execution_count": null,
   "id": "85b412d3",
   "metadata": {},
   "outputs": [],
   "source": [
    "fig = FigureWidgetResampler(go.Figure())\n",
    "fig.add_trace(go.Scattergl(name='audio', showlegend=True), hf_x=time_, hf_y=audio[0, 0])\n",
    "fig.add_trace(go.Scattergl(name='f0', showlegend=True), hf_x=time_pitch, hf_y=normalized(librosa.hz_to_midi(f0[0, 0])))\n",
    "fig.add_trace(go.Scattergl(name='loudness', showlegend=True), hf_x=time_pitch, hf_y=normalized(loudness[3, 0]))\n",
    "fig.show()\n",
    "Audio(audio[0], rate=SAMPLE_RATE)"
   ]
  },
  {
   "cell_type": "code",
   "execution_count": null,
   "id": "680b1eb4",
   "metadata": {},
   "outputs": [],
   "source": [
    "audio, sr = librosa.load(TEST_FILE_PATH, sr=SAMPLE_RATE, mono=False)\n",
    "if len(audio.shape) == 1:\n",
    "    audio = audio[None, :]\n",
    "audio = audio[:, :-(audio.shape[-1] % HOP_LENGTH)]\n",
    "time_ = np.arange(audio.shape[-1]) / sr"
   ]
  },
  {
   "cell_type": "code",
   "execution_count": null,
   "id": "e1d165a2",
   "metadata": {},
   "outputs": [],
   "source": [
    "audio_ = torch.from_numpy(audio)\n",
    "S = torch.stft(\n",
    "    audio_,\n",
    "    N_FFT,\n",
    "    HOP_LENGTH,\n",
    "    N_FFT,\n",
    "    torch.hann_window(N_FFT).to(audio_),\n",
    "    center=True,\n",
    "    normalized=False,\n",
    "    return_complex=True,\n",
    ").abs()"
   ]
  },
  {
   "cell_type": "code",
   "execution_count": null,
   "id": "64724353",
   "metadata": {},
   "outputs": [],
   "source": [
    "stft = librosa.stft(audio, n_fft=N_FFT, hop_length=HOP_LENGTH)\n",
    "time_stft = librosa.frames_to_time(np.arange(stft.shape[-1]), sr=sr, hop_length=HOP_LENGTH)\n",
    "freqs = librosa.core.fft_frequencies(sr=sr, n_fft=N_FFT)\n",
    "\n",
    "weights = librosa.A_weighting(freqs)\n",
    "Xmag = weights[None, :, None] + librosa.amplitude_to_db(np.abs(stft))\n",
    "\n",
    "trace = [go.Heatmap(\n",
    "    x= time_stft,\n",
    "    y= freqs,\n",
    "    z= Xmag[0],\n",
    "    colorscale='Jet',\n",
    "    )]\n",
    "layout = go.Layout(\n",
    "    title = 'Spectrogram',\n",
    "    yaxis = dict(title = 'Frequency'), # x-axis label\n",
    "    xaxis = dict(title = 'Time'), # y-axis label\n",
    "    )\n",
    "\n",
    "go.Figure(data=trace, layout=layout)"
   ]
  },
  {
   "cell_type": "code",
   "execution_count": null,
   "id": "7e4d654c",
   "metadata": {},
   "outputs": [],
   "source": [
    "stft = S.numpy()\n",
    "time_stft = librosa.frames_to_time(np.arange(stft.shape[-1]), sr=sr, hop_length=HOP_LENGTH)\n",
    "freqs = librosa.core.fft_frequencies(sr=sr, n_fft=N_FFT)\n",
    "\n",
    "weights = librosa.A_weighting(freqs)\n",
    "Xmag_ = weights[None, :, None] + librosa.amplitude_to_db(np.abs(stft))\n",
    "\n",
    "trace = [go.Heatmap(\n",
    "    x= time_stft,\n",
    "    y= freqs,\n",
    "    z= Xmag[0],\n",
    "    colorscale='Jet',\n",
    "    )]\n",
    "layout = go.Layout(\n",
    "    title = 'Spectrogram',\n",
    "    yaxis = dict(title = 'Frequency'), # x-axis label\n",
    "    xaxis = dict(title = 'Time'), # y-axis label\n",
    "    )\n",
    "\n",
    "go.Figure(data=trace, layout=layout)"
   ]
  },
  {
   "cell_type": "code",
   "execution_count": null,
   "id": "d1e6594b",
   "metadata": {},
   "outputs": [],
   "source": [
    "loudness = np.mean(Xmag, axis=-2)\n",
    "norm_loudness = normalized(loudness)\n",
    "loudness_ = np.mean(Xmag_, axis=-2)\n",
    "norm_loudness_ = normalized(loudness_)"
   ]
  },
  {
   "cell_type": "code",
   "execution_count": null,
   "id": "e07183db",
   "metadata": {},
   "outputs": [],
   "source": [
    "# audio shape is [batch, channel, time]\n",
    "# merge batch and channel before sending to crepe, and unmerge after\n",
    "resampled_audio = librosa.resample(audio, orig_sr=SAMPLE_RATE, target_sr=16000)\n",
    "freq, periodicity, probs = torchcrepe.predict(torch.from_numpy(resampled_audio), 16000, hop_length=HOP_LENGTH//3, decoder=torchcrepe.decode.weighted_argmax,\n",
    "                                       device='cuda', return_periodicity=True)\n",
    "freq = freq.numpy()\n",
    "periodicity = periodicity.numpy()\n",
    "time_pitch = librosa.frames_to_time(np.arange(freq.shape[-1]), sr=16000, hop_length=HOP_LENGTH//3)\n",
    "\n",
    "pitch = librosa.hz_to_midi(freq)\n",
    "norm_pitch = normalized(pitch)"
   ]
  },
  {
   "cell_type": "code",
   "execution_count": null,
   "id": "46241b1b",
   "metadata": {
    "scrolled": false
   },
   "outputs": [],
   "source": [
    "fig = FigureWidgetResampler(go.Figure())\n",
    "# fig.add_trace(go.Scattergl(name='audio', showlegend=True), hf_x=time_, hf_y=audio[0])\n",
    "fig.add_trace(go.Scattergl(name='loudness', showlegend=True), hf_x=time_stft, hf_y=loudness[0]/2)\n",
    "fig.add_trace(go.Scattergl(name='loudness', showlegend=True), hf_x=time_stft, hf_y=loudness_[0]/2)\n",
    "# fig.add_trace(go.Scattergl(name='pitch', showlegend=True), hf_x=time_pitch, hf_y=norm_pitch[0]/2)\n",
    "# fig.add_trace(go.Scattergl(name='periodicity', showlegend=True), hf_x=time_pitch, hf_y=periodicity[0]/2)\n",
    "fig.show()\n",
    "Audio(audio, rate=sr)"
   ]
  },
  {
   "cell_type": "code",
   "execution_count": null,
   "id": "cd5d961a",
   "metadata": {},
   "outputs": [],
   "source": [
    "shit = HarmonicOscillator(n_harmonics=32, n_channels=2)"
   ]
  },
  {
   "cell_type": "code",
   "execution_count": null,
   "id": "d87ee742",
   "metadata": {},
   "outputs": [],
   "source": [
    "# add batch dimension\n",
    "val1 = torch.from_numpy(freq[None, ...])\n",
    "val2 = torch.from_numpy(norm_loudness[None, ...])\n",
    "val3 = torch.einsum('bcot,o->bcot', torch.ones(1, 2, 32, freq.shape[-1]), torch.arange(1, 33)**2)\n",
    "val3 = 1 / val3"
   ]
  },
  {
   "cell_type": "code",
   "execution_count": null,
   "id": "beeffb8a",
   "metadata": {},
   "outputs": [],
   "source": [
    "val1.shape, val2.shape, val3.shape"
   ]
  },
  {
   "cell_type": "code",
   "execution_count": null,
   "id": "91925451",
   "metadata": {},
   "outputs": [],
   "source": [
    "with torch.no_grad():\n",
    "    pitched_sound = shit(val1, val2, val3)"
   ]
  },
  {
   "cell_type": "code",
   "execution_count": null,
   "id": "1cc4f7b8",
   "metadata": {},
   "outputs": [],
   "source": [
    "Audio(pitched_sound[0].numpy(), rate=SAMPLE_RATE)"
   ]
  },
  {
   "cell_type": "code",
   "execution_count": null,
   "id": "1e6fde63",
   "metadata": {},
   "outputs": [],
   "source": [
    "stft = librosa.stft(pitched_sound[0].numpy(), n_fft=N_FFT, hop_length=HOP_LENGTH)\n",
    "time_stft = librosa.frames_to_time(np.arange(stft.shape[-1]), sr=sr, hop_length=HOP_LENGTH)\n",
    "freqs = librosa.core.fft_frequencies(sr=sr, n_fft=N_FFT)\n",
    "\n",
    "weights = librosa.A_weighting(freqs)\n",
    "Xmag = weights[None, :, None] + librosa.amplitude_to_db(np.abs(stft))\n",
    "\n",
    "trace = [go.Heatmap(\n",
    "    x= time_stft,\n",
    "    y= freqs,\n",
    "    z= Xmag[0],\n",
    "    colorscale='Jet',\n",
    "    )]\n",
    "layout = go.Layout(\n",
    "    title = 'Spectrogram',\n",
    "    yaxis = dict(title = 'Frequency'), # x-axis label\n",
    "    xaxis = dict(title = 'Time'), # y-axis label\n",
    "    )\n",
    "\n",
    "go.Figure(data=trace, layout=layout)"
   ]
  },
  {
   "cell_type": "code",
   "execution_count": null,
   "id": "4ecef61c",
   "metadata": {},
   "outputs": [],
   "source": [
    "n_bands = 64"
   ]
  },
  {
   "cell_type": "code",
   "execution_count": null,
   "id": "f1e0b945",
   "metadata": {},
   "outputs": [],
   "source": [
    "kaka = FilteredNoise(n_bands)"
   ]
  },
  {
   "cell_type": "code",
   "execution_count": null,
   "id": "cf95cc5d",
   "metadata": {},
   "outputs": [],
   "source": [
    "# [batch, channel, n_bands, time]\n",
    "bands = torch.zeros(1, freq.shape[0], n_bands, freq.shape[-1])\n",
    "for idx in range(freq.shape[-1]):\n",
    "    bands[0, :, idx%n_bands, idx] = 1.0"
   ]
  },
  {
   "cell_type": "code",
   "execution_count": null,
   "id": "f358d144",
   "metadata": {},
   "outputs": [],
   "source": [
    "noise_sound = kaka(bands)"
   ]
  },
  {
   "cell_type": "code",
   "execution_count": null,
   "id": "f782c27a",
   "metadata": {},
   "outputs": [],
   "source": [
    "Audio(noise_sound[0].numpy(), rate=SAMPLE_RATE)"
   ]
  },
  {
   "cell_type": "code",
   "execution_count": null,
   "id": "1800df54",
   "metadata": {},
   "outputs": [],
   "source": [
    "stft = librosa.stft(noise_sound[0].numpy(), n_fft=N_FFT, hop_length=HOP_LENGTH)\n",
    "time_stft = librosa.frames_to_time(np.arange(stft.shape[-1]), sr=sr, hop_length=HOP_LENGTH)\n",
    "freqs = librosa.core.fft_frequencies(sr=sr, n_fft=N_FFT)\n",
    "\n",
    "weights = librosa.A_weighting(freqs)\n",
    "Xmag = weights[None, :, None] + librosa.amplitude_to_db(np.abs(stft))\n",
    "\n",
    "trace = [go.Heatmap(\n",
    "    x= time_stft,\n",
    "    y= freqs,\n",
    "    z= Xmag[0],\n",
    "    colorscale='Jet',\n",
    "    )]\n",
    "layout = go.Layout(\n",
    "    title = 'Spectrogram',\n",
    "    yaxis = dict(title = 'Frequency'), # x-axis label\n",
    "    xaxis = dict(title = 'Time'), # y-axis label\n",
    "    )\n",
    "\n",
    "go.Figure(data=trace, layout=layout)"
   ]
  },
  {
   "cell_type": "code",
   "execution_count": null,
   "id": "78b5fbbb",
   "metadata": {},
   "outputs": [],
   "source": [
    "dodo = ConvolutionalReverb(in_ch=2, out_ch=2)"
   ]
  },
  {
   "cell_type": "code",
   "execution_count": null,
   "id": "2b3a5480",
   "metadata": {},
   "outputs": [],
   "source": [
    "pitched_sound.shape"
   ]
  },
  {
   "cell_type": "code",
   "execution_count": null,
   "id": "ee39f2d6",
   "metadata": {},
   "outputs": [],
   "source": [
    "with torch.no_grad():\n",
    "    signal = dodo(pitched_sound+noise_sound)"
   ]
  },
  {
   "cell_type": "code",
   "execution_count": null,
   "id": "720af9d0",
   "metadata": {},
   "outputs": [],
   "source": [
    "signal.shape, pitched_sound.shape"
   ]
  },
  {
   "cell_type": "code",
   "execution_count": null,
   "id": "851cf2fe",
   "metadata": {},
   "outputs": [],
   "source": [
    "fig = FigureWidgetResampler(px.line(signal[0, 0]))\n",
    "fig.show()\n",
    "Audio(signal[0], rate=SAMPLE_RATE)"
   ]
  },
  {
   "cell_type": "code",
   "execution_count": null,
   "id": "fef65c31",
   "metadata": {},
   "outputs": [],
   "source": [
    "stft = librosa.stft(np.zeros_like(audio), n_fft=N_FFT, hop_length=HOP_LENGTH)\n",
    "freqs = librosa.core.fft_frequencies(sr=sr, n_fft=N_FFT)\n",
    "weights = librosa.A_weighting(freqs)\n",
    "Xmag = weights[None, :, None] + librosa.amplitude_to_db(np.abs(stft))\n",
    "\n",
    "loudness = np.mean(Xmag, axis=-2)"
   ]
  },
  {
   "cell_type": "code",
   "execution_count": null,
   "id": "13b0a82e",
   "metadata": {},
   "outputs": [],
   "source": [
    "Xmag.min(), Xmag.max()"
   ]
  },
  {
   "cell_type": "code",
   "execution_count": null,
   "id": "2c3e052d",
   "metadata": {},
   "outputs": [],
   "source": [
    "Xmag.min(), Xmag.max()"
   ]
  },
  {
   "cell_type": "code",
   "execution_count": null,
   "id": "3700ea5b",
   "metadata": {},
   "outputs": [],
   "source": [
    "Xmag.min(), Xmag.max()"
   ]
  },
  {
   "cell_type": "code",
   "execution_count": null,
   "id": "79ec52eb",
   "metadata": {},
   "outputs": [],
   "source": [
    "loudness.shape"
   ]
  },
  {
   "cell_type": "code",
   "execution_count": null,
   "id": "8cf1b4c0",
   "metadata": {},
   "outputs": [],
   "source": [
    "signal.shape, audio.shape, pitched_sound.shape, noise_sound.shape"
   ]
  },
  {
   "cell_type": "code",
   "execution_count": null,
   "id": "098d7993",
   "metadata": {},
   "outputs": [],
   "source": []
  }
 ],
 "metadata": {
  "kernelspec": {
   "display_name": "Python 3 (ipykernel)",
   "language": "python",
   "name": "python3"
  },
  "language_info": {
   "codemirror_mode": {
    "name": "ipython",
    "version": 3
   },
   "file_extension": ".py",
   "mimetype": "text/x-python",
   "name": "python",
   "nbconvert_exporter": "python",
   "pygments_lexer": "ipython3",
   "version": "3.10.4"
  }
 },
 "nbformat": 4,
 "nbformat_minor": 5
}
